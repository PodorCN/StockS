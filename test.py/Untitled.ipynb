{
 "cells": [
  {
   "cell_type": "code",
   "execution_count": 2,
   "metadata": {},
   "outputs": [],
   "source": [
    "from psaw import PushshiftAPI\n",
    "import datetime as dt\n",
    "\n",
    "api = PushshiftAPI()\n"
   ]
  },
  {
   "cell_type": "code",
   "execution_count": 7,
   "metadata": {},
   "outputs": [],
   "source": [
    "start_epoch=int(dt.datetime(2021, 5, 1).timestamp())\n",
    "start_epoch2=int((dt.datetime(2021, 5, 1)-dt.timedelta(hours=1)).timestamp())\n",
    "\n",
    "listt= list(api.search_comments(before=start_epoch,after=start_epoch2,\n",
    "                            subreddit='wallstreetbets',\n",
    "                            filter=['body', 'subreddit','created_utc'],\n",
    "                            limit=10000))"
   ]
  },
  {
   "cell_type": "code",
   "execution_count": 7,
   "metadata": {},
   "outputs": [],
   "source": [
    "start_epoch2=int((dt.datetime(2021, 5, 1)+dt.timedelta(hours=6)).timestamp())\n",
    "\n",
    "listt2= list(api.search_comments(before=start_epoch,\n",
    "                            subreddit='wallstreetbets',\n",
    "                            filter=['body', 'subreddit','created_utc'],\n",
    "                            limit=100))"
   ]
  },
  {
   "cell_type": "code",
   "execution_count": 10,
   "metadata": {},
   "outputs": [
    {
     "data": {
      "text/plain": [
       "comment(body='Yeah I agree with you that GME isn\\'t objectively a \"shit\" stock, but at that price it\\'s just completely ridiculous to think you should just \"diamond hand\" it', created_utc=1619798398, subreddit='wallstreetbets', created=1619769598.0, d_={'body': 'Yeah I agree with you that GME isn\\'t objectively a \"shit\" stock, but at that price it\\'s just completely ridiculous to think you should just \"diamond hand\" it', 'created_utc': 1619798398, 'subreddit': 'wallstreetbets', 'created': 1619769598.0})"
      ]
     },
     "execution_count": 10,
     "metadata": {},
     "output_type": "execute_result"
    }
   ],
   "source": [
    "listt[1]"
   ]
  },
  {
   "cell_type": "code",
   "execution_count": 1,
   "metadata": {},
   "outputs": [],
   "source": [
    "from psaw import PushshiftAPI\n",
    "import datetime as dt"
   ]
  },
  {
   "cell_type": "code",
   "execution_count": 12,
   "metadata": {},
   "outputs": [
    {
     "data": {
      "text/plain": [
       "datetime.datetime(2021, 4, 30, 23, 0, 3)"
      ]
     },
     "execution_count": 12,
     "metadata": {},
     "output_type": "execute_result"
    }
   ],
   "source": [
    "dt.datetime.fromtimestamp(1619794803)"
   ]
  },
  {
   "cell_type": "code",
   "execution_count": 48,
   "metadata": {},
   "outputs": [
    {
     "data": {
      "text/plain": [
       "[submission(author='Fr1sk3r', created_utc=1621083226, subreddit='politics', title='Ex-Defense Secretary Delivers Damning Takedown Of GOP Spin On Capitol Riot', url='https://www.huffpost.com/entry/william-cohen-jan-6-gop-spin_n_609f72bfe4b0daf2b5a19e57', created=1621054426.0, d_={'author': 'Fr1sk3r', 'created_utc': 1621083226, 'subreddit': 'politics', 'title': 'Ex-Defense Secretary Delivers Damning Takedown Of GOP Spin On Capitol Riot', 'url': 'https://www.huffpost.com/entry/william-cohen-jan-6-gop-spin_n_609f72bfe4b0daf2b5a19e57', 'created': 1621054426.0}),\n",
       " submission(author='h3xadecimal2', created_utc=1621083158, subreddit='politics', title='AIs from AI Dungeon 2 to sexy to funny and one based wholly on Reddit!', url='http://jare.cloud/sexy-flirt-bot/?r=1533-34396', created=1621054358.0, d_={'author': 'h3xadecimal2', 'created_utc': 1621083158, 'subreddit': 'politics', 'title': 'AIs from AI Dungeon 2 to sexy to funny and one based wholly on Reddit!', 'url': 'http://jare.cloud/sexy-flirt-bot/?r=1533-34396', 'created': 1621054358.0}),\n",
       " submission(author='zsreport', created_utc=1621082493, subreddit='politics', title='EPA shuts polluting Caribbean refinery reopened under Trump', url='https://www.theguardian.com/us-news/2021/may/15/refinery-pollution-st-croix-us-virgin-islands', created=1621053693.0, d_={'author': 'zsreport', 'created_utc': 1621082493, 'subreddit': 'politics', 'title': 'EPA shuts polluting Caribbean refinery reopened under Trump', 'url': 'https://www.theguardian.com/us-news/2021/may/15/refinery-pollution-st-croix-us-virgin-islands', 'created': 1621053693.0}),\n",
       " submission(author='xRipleyx', created_utc=1621082253, subreddit='politics', title=\"Nearly half of Americans don't trust CDC and FDA — that's a problem\", url='https://thehill.com/opinion/healthcare/553600-nearly-half-of-americans-dont-trust-cdc-and-fda-thats-a-problem', created=1621053453.0, d_={'author': 'xRipleyx', 'created_utc': 1621082253, 'subreddit': 'politics', 'title': \"Nearly half of Americans don't trust CDC and FDA — that's a problem\", 'url': 'https://thehill.com/opinion/healthcare/553600-nearly-half-of-americans-dont-trust-cdc-and-fda-thats-a-problem', 'created': 1621053453.0}),\n",
       " submission(author='bigjawgiggy', created_utc=1621082156, subreddit='politics', title='Pro-Trump lawyer Lin Wood causes headache for GOP in key S.C. race', url='https://thehill.com/homenews/campaign/553641-pro-trump-lawyer-lin-wood-causes-headache-for-gop-in-key-sc-race', created=1621053356.0, d_={'author': 'bigjawgiggy', 'created_utc': 1621082156, 'subreddit': 'politics', 'title': 'Pro-Trump lawyer Lin Wood causes headache for GOP in key S.C. race', 'url': 'https://thehill.com/homenews/campaign/553641-pro-trump-lawyer-lin-wood-causes-headache-for-gop-in-key-sc-race', 'created': 1621053356.0}),\n",
       " submission(author='theladynora', created_utc=1621082097, subreddit='politics', title='AOC Says Biden\\'s Refusal to Condemn Israeli Attacks on Palestinians \\'Takes a Side—the Side of Occupation\\' | The New York Democrat criticized Biden for failing to acknowledge \"what precipitated this cycle of violence—namely, the expulsions of Palestinians and attacks on Al-Aqsa.\"', url='https://www.commondreams.org/news/2021/05/13/aoc-says-bidens-refusal-condemn-israeli-attacks-palestinians-takes-side-side', created=1621053297.0, d_={'author': 'theladynora', 'created_utc': 1621082097, 'subreddit': 'politics', 'title': 'AOC Says Biden\\'s Refusal to Condemn Israeli Attacks on Palestinians \\'Takes a Side—the Side of Occupation\\' | The New York Democrat criticized Biden for failing to acknowledge \"what precipitated this cycle of violence—namely, the expulsions of Palestinians and attacks on Al-Aqsa.\"', 'url': 'https://www.commondreams.org/news/2021/05/13/aoc-says-bidens-refusal-condemn-israeli-attacks-palestinians-takes-side-side', 'created': 1621053297.0}),\n",
       " submission(author='Agreeable_Painter_89', created_utc=1621082082, subreddit='politics', title='Over 120 retired US military leaders have penned an open letter warning America is in “deep peril” due to the rise of China and queried whether President Joe Biden has the mental capacity to handle the rising threat.', url='https://www.skynews.com.au/details/_6254144704001', created=1621053282.0, d_={'author': 'Agreeable_Painter_89', 'created_utc': 1621082082, 'subreddit': 'politics', 'title': 'Over 120 retired US military leaders have penned an open letter warning America is in “deep peril” due to the rise of China and queried whether President Joe Biden has the mental capacity to handle the rising threat.', 'url': 'https://www.skynews.com.au/details/_6254144704001', 'created': 1621053282.0}),\n",
       " submission(author='Tommytatumnews', created_utc=1621081951, subreddit='politics', title='Megyn Kelly Just Mocked The Heck Out of Crazy Rachel Maddow!', url='https://thewashingtoncountyauditor.com/megyn-kelly-just-mocked-the-heck-out-of-crazy-rachel-maddow/', created=1621053151.0, d_={'author': 'Tommytatumnews', 'created_utc': 1621081951, 'subreddit': 'politics', 'title': 'Megyn Kelly Just Mocked The Heck Out of Crazy Rachel Maddow!', 'url': 'https://thewashingtoncountyauditor.com/megyn-kelly-just-mocked-the-heck-out-of-crazy-rachel-maddow/', 'created': 1621053151.0}),\n",
       " submission(author='mar_kelp', created_utc=1621081894, subreddit='politics', title='Stolen election myth rattles key GOP race', url='https://www.politico.com/news/2021/05/15/south-carolina-gop-chair-race-488445', created=1621053094.0, d_={'author': 'mar_kelp', 'created_utc': 1621081894, 'subreddit': 'politics', 'title': 'Stolen election myth rattles key GOP race', 'url': 'https://www.politico.com/news/2021/05/15/south-carolina-gop-chair-race-488445', 'created': 1621053094.0}),\n",
       " submission(author='ahlamniyadi', created_utc=1621081686, subreddit='politics', title='Are We Being Set Up for Mass Depopulation?', url='https://noqreport.com/2021/05/15/are-we-being-set-up-for-mass-depopulation/', created=1621052886.0, d_={'author': 'ahlamniyadi', 'created_utc': 1621081686, 'subreddit': 'politics', 'title': 'Are We Being Set Up for Mass Depopulation?', 'url': 'https://noqreport.com/2021/05/15/are-we-being-set-up-for-mass-depopulation/', 'created': 1621052886.0})]"
      ]
     },
     "execution_count": 48,
     "metadata": {},
     "output_type": "execute_result"
    }
   ],
   "source": [
    "\n",
    "\n",
    "start_epoch=int(dt.datetime(2017, 1, 1).timestamp())\n",
    "\n",
    "list(api.search_submissions(after=start_epoch,\n",
    "                            subreddit='politics',\n",
    "                            filter=['url','author', 'title', 'subreddit'],\n",
    "                            limit=10))"
   ]
  },
  {
   "cell_type": "code",
   "execution_count": 44,
   "metadata": {},
   "outputs": [
    {
     "data": {
      "text/plain": [
       "comment(all_awardings=[], associated_award=None, author='Abel383', author_flair_background_color=None, author_flair_css_class=None, author_flair_richtext=[], author_flair_template_id=None, author_flair_text=None, author_flair_text_color=None, author_flair_type='text', author_fullname='t2_12vsob', author_patreon_flair=False, author_premium=False, awarders=[], body='Damn shoulda bought the amc dip', collapsed_because_crowd_control=None, comment_type=None, created_utc=1621015130, gildings={}, id='gy4jv01', is_submitter=False, link_id='t3_nc4z12', locked=False, no_follow=True, parent_id='t3_nc4z12', permalink='/r/wallstreetbets/comments/nc4z12/daily_discussion_thread_for_may_14_2021/gy4jv01/', retrieved_on=1621063291, score=4, send_replies=True, stickied=False, subreddit='wallstreetbets', subreddit_id='t5_2th52', top_awarded_type=None, total_awards_received=0, treatment_tags=[], created=1620986330.0, d_={'all_awardings': [], 'associated_award': None, 'author': 'Abel383', 'author_flair_background_color': None, 'author_flair_css_class': None, 'author_flair_richtext': [], 'author_flair_template_id': None, 'author_flair_text': None, 'author_flair_text_color': None, 'author_flair_type': 'text', 'author_fullname': 't2_12vsob', 'author_patreon_flair': False, 'author_premium': False, 'awarders': [], 'body': 'Damn shoulda bought the amc dip', 'collapsed_because_crowd_control': None, 'comment_type': None, 'created_utc': 1621015130, 'gildings': {}, 'id': 'gy4jv01', 'is_submitter': False, 'link_id': 't3_nc4z12', 'locked': False, 'no_follow': True, 'parent_id': 't3_nc4z12', 'permalink': '/r/wallstreetbets/comments/nc4z12/daily_discussion_thread_for_may_14_2021/gy4jv01/', 'retrieved_on': 1621063291, 'score': 4, 'send_replies': True, 'stickied': False, 'subreddit': 'wallstreetbets', 'subreddit_id': 't5_2th52', 'top_awarded_type': None, 'total_awards_received': 0, 'treatment_tags': [], 'created': 1620986330.0})"
      ]
     },
     "execution_count": 44,
     "metadata": {},
     "output_type": "execute_result"
    }
   ],
   "source": [
    "listt[-1]"
   ]
  },
  {
   "cell_type": "code",
   "execution_count": 2,
   "metadata": {},
   "outputs": [
    {
     "data": {
      "text/plain": [
       "1620057600"
      ]
     },
     "execution_count": 2,
     "metadata": {},
     "output_type": "execute_result"
    }
   ],
   "source": [
    "int(dt.datetime(2021, 5, 4)+dt.timedelta(hours=12).timestamp())"
   ]
  },
  {
   "cell_type": "code",
   "execution_count": 4,
   "metadata": {},
   "outputs": [
    {
     "data": {
      "text/plain": [
       "1620100800"
      ]
     },
     "execution_count": 4,
     "metadata": {},
     "output_type": "execute_result"
    }
   ],
   "source": [
    "int((dt.datetime(2021, 5, 4)+dt.timedelta(hours=12)).timestamp())"
   ]
  },
  {
   "cell_type": "code",
   "execution_count": null,
   "metadata": {},
   "outputs": [],
   "source": []
  }
 ],
 "metadata": {
  "kernelspec": {
   "display_name": "Python 3",
   "language": "python",
   "name": "python3"
  },
  "language_info": {
   "codemirror_mode": {
    "name": "ipython",
    "version": 3
   },
   "file_extension": ".py",
   "mimetype": "text/x-python",
   "name": "python",
   "nbconvert_exporter": "python",
   "pygments_lexer": "ipython3",
   "version": "3.8.3"
  }
 },
 "nbformat": 4,
 "nbformat_minor": 4
}
